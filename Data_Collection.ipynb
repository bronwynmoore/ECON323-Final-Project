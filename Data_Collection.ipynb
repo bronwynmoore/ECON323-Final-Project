{
 "cells": [
  {
   "cell_type": "code",
   "execution_count": 1,
   "id": "6baf244e-b44c-4b03-971d-095f972dabf9",
   "metadata": {},
   "outputs": [],
   "source": [
    "import pandas as pd\n",
    "import numpy as np\n",
    "import re\n",
    "import time\n",
    "from urllib.request import urlopen\n",
    "from bs4 import BeautifulSoup\n",
    "import requests"
   ]
  },
  {
   "cell_type": "markdown",
   "id": "e8b8447a-9a3e-492d-b896-5a0d071dfb75",
   "metadata": {},
   "source": [
    "## DON'T TOUCH DUMMY"
   ]
  },
  {
   "cell_type": "code",
   "execution_count": 18,
   "id": "9ee5ece7-ef0a-452a-9c85-eb94a4a62a81",
   "metadata": {},
   "outputs": [],
   "source": [
    "#Soup for listings pages\n",
    "headers = { \"User-Agent\": \"Mozilla/5.0 (Macintosh; Intel Mac OS X 10.15; rv:95.0) Gecko/20100101 Firefox/95.0\",\n",
    "            \"X-Amzn-Trace-Id\": \"Root=1-61c3ff21-6d7180d97e6822561d378dd9\"}\n",
    "\n",
    "No_pages = 30\n",
    "book_soups = []\n",
    "\n",
    "for pageNo in range(1 , No_pages+1):\n",
    "    r = requests.get('https://www.amazon.ca/s?i=digital-text&rh=n%3A2980423011&fs=true&page='+str(pageNo)+'&qid=1640233972&ref=sr_pg_'+str(pageNo), headers=headers)\n",
    "    content = r.content\n",
    "    soup = BeautifulSoup(content)\n",
    "    for d in soup.findAll('div', class_ = \"s-result-item s-asin sg-col-0-of-12 sg-col-16-of-20 sg-col s-widget-spacing-small sg-col-12-of-16\"):\n",
    "        links = d.find('a', class_ = \"a-link-normal s-no-outline\")\n",
    "        link = links['href']\n",
    "        book_r = requests.get('https://www.amazon.ca'+link, headers=headers)\n",
    "        book_content = book_r.content\n",
    "        book_soup = BeautifulSoup(book_content)\n",
    "        book_soups.append(book_soup)"
   ]
  },
  {
   "cell_type": "markdown",
   "id": "78b22c8e-2474-4470-bcf7-734069c11872",
   "metadata": {},
   "source": [
    "## GOOD TO TOUCH"
   ]
  },
  {
   "cell_type": "code",
   "execution_count": 29,
   "id": "aedb7bb2-1d66-4abb-a351-4c9b73c7a3f5",
   "metadata": {},
   "outputs": [],
   "source": [
    "def get_data(s):\n",
    "    data_list = []\n",
    "    \n",
    "    #book title\n",
    "    title = s.find('span', id = 'productTitle')\n",
    "    data_list.append(title.text if title is not None else np.nan)\n",
    "    \n",
    "    #author (allows for more than one)\n",
    "    author_list = s.findAll('span', class_ = 'author notFaded')\n",
    "    authors = []\n",
    "    for a in author_list:\n",
    "        author = a.find('a', class_ = 'a-link-normal contributorNameID')\n",
    "        if author is not None:\n",
    "            authors.append(author.text)\n",
    "    data_list.append(authors if authors is not [] else np.nan)\n",
    "    \n",
    "    #price\n",
    "    price = s.find('span', id = 'kindle-price')\n",
    "    data_list.append(price.text if price is not None else np.nan)\n",
    "    \n",
    "    #kindle unlimited \n",
    "    ku_icon = s.find('i', class_ = 'a-icon a-icon-kindle-unlimited a-icon-medium')\n",
    "    data_list.append(1 if ku_icon is not None else 0)\n",
    "    \n",
    "    #ranking\n",
    "    product_details = s.find('div', id=\"detailBullets_feature_div\")\n",
    "    if product_details is not None:\n",
    "        detail_groups = product_details.findAll('ul', class_ = \"a-unordered-list a-nostyle a-vertical a-spacing-none detail-bullet-list\")\n",
    "        ranks = detail_groups[1].find('span', class_ = \"a-list-item\")\n",
    "        data_list.append(ranks.text if ranks is not None else np.nan)\n",
    "    \n",
    "     #overall rating\n",
    "        rating = detail_groups[2].find('span', class_ = 'a-icon-alt')\n",
    "        data_list.append(rating.text if rating is not None else np.nan)\n",
    "    \n",
    "    #number of ratings\n",
    "    rating_count = s.find('span', attrs={'id':'acrCustomerReviewText', 'class':'a-size-base'})\n",
    "    data_list.append(rating_count.text if rating_count is not None else np.nan)\n",
    "    \n",
    "    #blurb\n",
    "    blurb = s.find('div', id = 'bookDescription_feature_div')\n",
    "    data_list.append(blurb.text if blurb is not None else np.nan)\n",
    "    \n",
    "    #reviews\n",
    "    reviews = s.find('div', class_=\"a-section a-spacing-large reviews-content filterable-reviews-content celwidget\")\n",
    "    \n",
    "    reviews_ratings = []\n",
    "    reviews_titles = []\n",
    "    reviews_texts = []\n",
    "    \n",
    "    if reviews is not None:\n",
    "        reviews_list = reviews.findAll('div', class_=\"a-section review aok-relative\")\n",
    "    \n",
    "        for r in reviews_list:\n",
    "            #get rating from all top reviews\n",
    "            review_rating = r.find('a', class_ = \"a-link-normal\")\n",
    "            reviews_ratings.append(review_rating['title'] if review_rating is not None else np.nan)\n",
    "        \n",
    "            #get titles from all top reviews\n",
    "            review_title = r.find('a', class_ = \"a-size-base a-link-normal review-title a-color-base review-title-content a-text-bold\")\n",
    "            reviews_titles.append(review_title.text if review_title is not None else np.nan)\n",
    "        \n",
    "            #get text from all top reviews\n",
    "            review_text = r.find('div', class_ = 'a-expander-content reviewText review-text-content a-expander-partial-collapse-content')\n",
    "            reviews_texts.append(review_text.text if blurb is not None else np.nan)\n",
    "    \n",
    "    data_list.append(reviews_ratings if reviews_ratings is not [] else np.nan)\n",
    "    data_list.append(reviews_titles if reviews_titles is not [] else np.nan)\n",
    "    data_list.append(reviews_texts if reviews_texts is not [] else np.nan)\n",
    "    \n",
    "    return data_list\n"
   ]
  },
  {
   "cell_type": "code",
   "execution_count": 30,
   "id": "093e4b45-27a4-451d-8cf4-1d3fa837223d",
   "metadata": {},
   "outputs": [],
   "source": [
    "#loop over all listings\n",
    "all_data = []\n",
    "for b in book_soups:\n",
    "    b_data = get_data(b)\n",
    "    all_data.append(b_data)"
   ]
  },
  {
   "cell_type": "markdown",
   "id": "4b978dd0-4b23-4d3e-a9f0-dabe7829af04",
   "metadata": {},
   "source": [
    "Next I convert the scraped data into a data frame and save a copy as a csv into my repository for safekeeping :)"
   ]
  },
  {
   "cell_type": "code",
   "execution_count": 32,
   "id": "99542a40-ca18-4539-ab4e-ae3cb5ecfec1",
   "metadata": {},
   "outputs": [],
   "source": [
    "#Export to csv\n",
    "book_data = pd.DataFrame(all_data,columns=['Book Name','Author', 'Price', 'KU', 'Rankings','Rating','Customers_Rated','Blurb', 'Reviews_Ratings', 'Reviews_Titles', 'Reviews_Texts' ])\n",
    "book_data.to_csv('amazon_books.csv', index=False, encoding='utf-8')"
   ]
  }
 ],
 "metadata": {
  "kernelspec": {
   "display_name": "Python 3 (ipykernel)",
   "language": "python",
   "name": "python3"
  },
  "language_info": {
   "codemirror_mode": {
    "name": "ipython",
    "version": 3
   },
   "file_extension": ".py",
   "mimetype": "text/x-python",
   "name": "python",
   "nbconvert_exporter": "python",
   "pygments_lexer": "ipython3",
   "version": "3.9.6"
  }
 },
 "nbformat": 4,
 "nbformat_minor": 5
}
