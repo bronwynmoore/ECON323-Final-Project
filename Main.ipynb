{
 "cells": [
  {
   "cell_type": "code",
   "execution_count": 163,
   "id": "1b621586-4069-40a6-a69e-377f1a8c550b",
   "metadata": {},
   "outputs": [
    {
     "name": "stderr",
     "output_type": "stream",
     "text": [
      "[nltk_data] Downloading package punkt to /home/jupyter/nltk_data...\n",
      "[nltk_data]   Package punkt is already up-to-date!\n",
      "[nltk_data] Downloading package stopwords to\n",
      "[nltk_data]     /home/jupyter/nltk_data...\n",
      "[nltk_data]   Package stopwords is already up-to-date!\n",
      "[nltk_data] Downloading package wordnet to /home/jupyter/nltk_data...\n",
      "[nltk_data]   Package wordnet is already up-to-date!\n"
     ]
    }
   ],
   "source": [
    "import pandas as pd\n",
    "import numpy as np\n",
    "import matplotlib.pyplot as plt\n",
    "import glob\n",
    "import seaborn as sns\n",
    "%matplotlib inline\n",
    "from sklearn.metrics import confusion_matrix\n",
    "#import re\n",
    "#import time\n",
    "#from datetime import datetime\n",
    "#import matplotlib.dates as mdates\n",
    "#import matplotlib.ticker as ticker\n",
    "#from urllib.request import urlopen\n",
    "import requests\n",
    "import nltk\n",
    "import string\n",
    "from sklearn.feature_extraction.text import CountVectorizer, TfidfVectorizer\n",
    "from sklearn.model_selection import train_test_split\n",
    "from sklearn import naive_bayes, metrics\n",
    "from operator import add\n",
    "nltk.download('punkt')\n",
    "nltk.download('stopwords')\n",
    "nltk.download('wordnet');"
   ]
  },
  {
   "cell_type": "markdown",
   "id": "7b1589c1-bdde-4792-9b2a-5f332067ce16",
   "metadata": {},
   "source": [
    "# ECON 323 FINAL PROJECT: ANALYSIS CODE\n",
    "\n",
    "## 1. Data Cleaning\n",
    "The data that I scraped is not anywhere close to clean so there is a significant amount of work to do to make it useful.\n",
    "\n",
    "### 1.1 Import Data\n",
    "First I import all 5 datasets outputted from the scraping code and merge them into one data frame."
   ]
  },
  {
   "cell_type": "code",
   "execution_count": 164,
   "id": "e11d5df0-b083-4f5f-97ab-07a9822267cd",
   "metadata": {},
   "outputs": [
    {
     "data": {
      "text/html": [
       "<div>\n",
       "<style scoped>\n",
       "    .dataframe tbody tr th:only-of-type {\n",
       "        vertical-align: middle;\n",
       "    }\n",
       "\n",
       "    .dataframe tbody tr th {\n",
       "        vertical-align: top;\n",
       "    }\n",
       "\n",
       "    .dataframe thead th {\n",
       "        text-align: right;\n",
       "    }\n",
       "</style>\n",
       "<table border=\"1\" class=\"dataframe\">\n",
       "  <thead>\n",
       "    <tr style=\"text-align: right;\">\n",
       "      <th></th>\n",
       "      <th>Book Name</th>\n",
       "      <th>Author</th>\n",
       "      <th>Price</th>\n",
       "      <th>KU</th>\n",
       "      <th>Rankings</th>\n",
       "      <th>Rating</th>\n",
       "      <th>Customers_Rated</th>\n",
       "      <th>Blurb</th>\n",
       "      <th>Reviews_Ratings</th>\n",
       "      <th>Reviews_Titles</th>\n",
       "      <th>Reviews_Texts</th>\n",
       "    </tr>\n",
       "  </thead>\n",
       "  <tbody>\n",
       "    <tr>\n",
       "      <th>0</th>\n",
       "      <td>TAGGED BY DEATH (RILEY MALLOY THRILLER SERIES...</td>\n",
       "      <td>['Judith A. Barrett']</td>\n",
       "      <td>CDN$ 6.99</td>\n",
       "      <td>1</td>\n",
       "      <td>Best Sellers Rank:  #6,162 in Kindle Store (...</td>\n",
       "      <td>4.0 out of 5 stars</td>\n",
       "      <td>71 ratings</td>\n",
       "      <td>\\n  Only the dog whisperer can identify a seri...</td>\n",
       "      <td>[]</td>\n",
       "      <td>[]</td>\n",
       "      <td>[]</td>\n",
       "    </tr>\n",
       "    <tr>\n",
       "      <th>1</th>\n",
       "      <td>The Armstrong Assignment (A Janet Markham Ben...</td>\n",
       "      <td>['Diana Xarissa']</td>\n",
       "      <td>CDN$ 3.99</td>\n",
       "      <td>1</td>\n",
       "      <td>Best Sellers Rank:  #1,736 in Kindle Store (...</td>\n",
       "      <td>4.6 out of 5 stars</td>\n",
       "      <td>316 ratings</td>\n",
       "      <td>\\n  Janet Markham’s wedding day is perfect in ...</td>\n",
       "      <td>['5.0 out of 5 stars', '5.0 out of 5 stars']</td>\n",
       "      <td>['\\nA New Adventure\\n', '\\nA lovely page turne...</td>\n",
       "      <td>['\\n\\n  Janet and Edward are starting their li...</td>\n",
       "    </tr>\n",
       "    <tr>\n",
       "      <th>2</th>\n",
       "      <td>Overachiever (Slumming It Book 2)</td>\n",
       "      <td>['S.M. Shade']</td>\n",
       "      <td>CDN$ 5.10</td>\n",
       "      <td>1</td>\n",
       "      <td>Best Sellers Rank:  #3,630 in Kindle Store (...</td>\n",
       "      <td>4.7 out of 5 stars</td>\n",
       "      <td>107 ratings</td>\n",
       "      <td>\\n  \"Overachiever was hands down one of the be...</td>\n",
       "      <td>['5.0 out of 5 stars', '4.0 out of 5 stars', '...</td>\n",
       "      <td>['\\nWow\\n', '\\nA laugh-out-loud college romanc...</td>\n",
       "      <td>['\\n\\n  I cannot wait for the 3rd book in this...</td>\n",
       "    </tr>\n",
       "    <tr>\n",
       "      <th>3</th>\n",
       "      <td>The Perfect Couple: A gripping USA Today psyc...</td>\n",
       "      <td>['Jackie Kabler']</td>\n",
       "      <td>CDN$ 5.99</td>\n",
       "      <td>1</td>\n",
       "      <td>Best Sellers Rank:  #1 in Kindle Store (See ...</td>\n",
       "      <td>4.1 out of 5 stars</td>\n",
       "      <td>11,783 ratings</td>\n",
       "      <td>\\n  THE 2020 BESTSELLER!Perfect for fans of Li...</td>\n",
       "      <td>['4.0 out of 5 stars', '2.0 out of 5 stars', '...</td>\n",
       "      <td>['\\nsolid, kept me guessing\\n', '\\nTypical pre...</td>\n",
       "      <td>[\"\\n\\n  This is a plot driven story and it wor...</td>\n",
       "    </tr>\n",
       "    <tr>\n",
       "      <th>4</th>\n",
       "      <td>Sold on a Monday: A Novel</td>\n",
       "      <td>['Kristina McMorris']</td>\n",
       "      <td>CDN$ 11.10</td>\n",
       "      <td>1</td>\n",
       "      <td>Best Sellers Rank:  #2 in Kindle Store (See ...</td>\n",
       "      <td>4.2 out of 5 stars</td>\n",
       "      <td>15,798 ratings</td>\n",
       "      <td>\\n  A NEW YORK TIMES BESTSELLER A USA TODAY BE...</td>\n",
       "      <td>['5.0 out of 5 stars', '5.0 out of 5 stars', '...</td>\n",
       "      <td>['\\nTruth bares fiction\\n', '\\nLoved it\\n', '\\...</td>\n",
       "      <td>['\\n\\n  It is a bit of the reality of the time...</td>\n",
       "    </tr>\n",
       "  </tbody>\n",
       "</table>\n",
       "</div>"
      ],
      "text/plain": [
       "                                           Book Name                 Author  \\\n",
       "0   TAGGED BY DEATH (RILEY MALLOY THRILLER SERIES...  ['Judith A. Barrett']   \n",
       "1   The Armstrong Assignment (A Janet Markham Ben...      ['Diana Xarissa']   \n",
       "2                 Overachiever (Slumming It Book 2)          ['S.M. Shade']   \n",
       "3   The Perfect Couple: A gripping USA Today psyc...      ['Jackie Kabler']   \n",
       "4                         Sold on a Monday: A Novel   ['Kristina McMorris']   \n",
       "\n",
       "          Price  KU                                           Rankings  \\\n",
       "0    CDN$ 6.99    1    Best Sellers Rank:  #6,162 in Kindle Store (...   \n",
       "1    CDN$ 3.99    1    Best Sellers Rank:  #1,736 in Kindle Store (...   \n",
       "2    CDN$ 5.10    1    Best Sellers Rank:  #3,630 in Kindle Store (...   \n",
       "3    CDN$ 5.99    1    Best Sellers Rank:  #1 in Kindle Store (See ...   \n",
       "4   CDN$ 11.10    1    Best Sellers Rank:  #2 in Kindle Store (See ...   \n",
       "\n",
       "               Rating Customers_Rated  \\\n",
       "0  4.0 out of 5 stars      71 ratings   \n",
       "1  4.6 out of 5 stars     316 ratings   \n",
       "2  4.7 out of 5 stars     107 ratings   \n",
       "3  4.1 out of 5 stars  11,783 ratings   \n",
       "4  4.2 out of 5 stars  15,798 ratings   \n",
       "\n",
       "                                               Blurb  \\\n",
       "0  \\n  Only the dog whisperer can identify a seri...   \n",
       "1  \\n  Janet Markham’s wedding day is perfect in ...   \n",
       "2  \\n  \"Overachiever was hands down one of the be...   \n",
       "3  \\n  THE 2020 BESTSELLER!Perfect for fans of Li...   \n",
       "4  \\n  A NEW YORK TIMES BESTSELLER A USA TODAY BE...   \n",
       "\n",
       "                                     Reviews_Ratings  \\\n",
       "0                                                 []   \n",
       "1       ['5.0 out of 5 stars', '5.0 out of 5 stars']   \n",
       "2  ['5.0 out of 5 stars', '4.0 out of 5 stars', '...   \n",
       "3  ['4.0 out of 5 stars', '2.0 out of 5 stars', '...   \n",
       "4  ['5.0 out of 5 stars', '5.0 out of 5 stars', '...   \n",
       "\n",
       "                                      Reviews_Titles  \\\n",
       "0                                                 []   \n",
       "1  ['\\nA New Adventure\\n', '\\nA lovely page turne...   \n",
       "2  ['\\nWow\\n', '\\nA laugh-out-loud college romanc...   \n",
       "3  ['\\nsolid, kept me guessing\\n', '\\nTypical pre...   \n",
       "4  ['\\nTruth bares fiction\\n', '\\nLoved it\\n', '\\...   \n",
       "\n",
       "                                       Reviews_Texts  \n",
       "0                                                 []  \n",
       "1  ['\\n\\n  Janet and Edward are starting their li...  \n",
       "2  ['\\n\\n  I cannot wait for the 3rd book in this...  \n",
       "3  [\"\\n\\n  This is a plot driven story and it wor...  \n",
       "4  ['\\n\\n  It is a bit of the reality of the time...  "
      ]
     },
     "execution_count": 164,
     "metadata": {},
     "output_type": "execute_result"
    }
   ],
   "source": [
    "all_files = glob.glob( \"scraped_data/*.csv\")\n",
    "\n",
    "li = []\n",
    "for filename in all_files:\n",
    "    df = pd.read_csv(filename, index_col=None, header=0)\n",
    "    li.append(df)\n",
    "\n",
    "raw_amazon_data = pd.concat(li, axis=0, ignore_index=True)\n",
    "\n",
    "raw_amazon_data.to_csv('raw_amazon_data.csv', index=False, encoding='utf-8')\n",
    "\n",
    "raw_amazon_data.head()"
   ]
  },
  {
   "cell_type": "markdown",
   "id": "3da79c49-fa18-4dfc-8f8a-2bb4f97baba6",
   "metadata": {},
   "source": [
    "### 1.2 Clean Numeric Variables\n"
   ]
  },
  {
   "cell_type": "code",
   "execution_count": 165,
   "id": "e9a3e610-bb5d-40d0-857c-891afe086127",
   "metadata": {},
   "outputs": [],
   "source": [
    "df = pd.read_csv('raw_amazon_data.csv', index_col=None, header=0)\n",
    "\n",
    "#define clean string function\n",
    "def clean_str(x, r_text):\n",
    "    if isinstance(x, str):\n",
    "        return(x.replace(r_text, ''))\n",
    "    return(x)\n",
    "\n",
    "#convert price to float\n",
    "df['Price'] = raw_amazon_data['Price'].apply(clean_str, args =(\"CDN$ \",)).astype(float)\n",
    "\n",
    "#separate kindle store overall rankings from other rankings, where no overall kindle stroe ranking, set NaN\n",
    "df['Rankings'] = df['Rankings'].astype(str)\n",
    "df['Rankings'] = np.where(df['Rankings'].str.contains(\" in Kindle Store\", na=False),df['Rankings'], \"NO KS RANK\")\n",
    "df['Rankings'] = df['Rankings'].apply(lambda x: x.split('#',1)[-1])\n",
    "df['Rankings'] = df['Rankings'].apply(lambda x: x.split(' in Kindle Store')[0])\n",
    "\n",
    "#convert ranking to float\n",
    "df['Rankings'] = df['Rankings'].str.replace(\",\", \"\")\n",
    "df['Rankings'] = df['Rankings'].replace(\"NO KS RANK\", np.nan)\n",
    "df['Rankings'] = df['Rankings'].replace(\"37 Free\", np.nan)\n",
    "df['Rankings'] = df['Rankings'].astype(float)\n",
    "\n",
    "#convert rating to float\n",
    "df['Rating'] = df['Rating'].apply(clean_str, args =(\" out of 5 stars\",)).astype(float)\n",
    "\n",
    "#convert customers_rated to float\n",
    "df['Customers_Rated'] = df['Customers_Rated'].apply(clean_str, args =(\" ratings\",))\n",
    "df['Customers_Rated'] = df['Customers_Rated'].apply(clean_str, args =(\" rating\",))\n",
    "df['Customers_Rated'] = df['Customers_Rated'].apply(clean_str, args =(\"[]\",))\n",
    "df['Customers_Rated'] = df['Customers_Rated'].replace(\"\", np.nan)\n",
    "df['Customers_Rated'] = df['Customers_Rated'].apply(clean_str, args =(\",\",)).astype(float)"
   ]
  },
  {
   "cell_type": "markdown",
   "id": "01ddecd5-a27c-47e1-8f01-60b4161a3bd6",
   "metadata": {},
   "source": [
    "### 1.3 Clean String Variables"
   ]
  },
  {
   "cell_type": "code",
   "execution_count": 166,
   "id": "4da69819-24f3-4079-a1f9-e4e1dc65db15",
   "metadata": {},
   "outputs": [],
   "source": [
    "#define function to format author(s)\n",
    "def author_list(x):\n",
    "    a = ''\n",
    "    for i in range(0, len(x)):\n",
    "        if i == 0:\n",
    "            a = str(x[i])\n",
    "        elif i != len(x) - 1:\n",
    "            a += (\" , \" + str(x[i]))\n",
    "        else:\n",
    "            a += (\" & \" + str(x[i]))\n",
    "    return a\n",
    "\n",
    "#reformat author variable and convert to string\n",
    "df['Author'] = df['Author'].apply(eval)\n",
    "df['Author'] = df['Author'].apply(author_list).astype(str)\n",
    "\n",
    "#reformat blurb variable\n",
    "df['Blurb'] = df['Blurb'].apply(clean_str, args =(\"\\n\",)).astype(str)"
   ]
  },
  {
   "cell_type": "markdown",
   "id": "1f6657d1-86c7-47da-b0ae-a4e60fe404a2",
   "metadata": {},
   "source": [
    "### 1.4 Clean Review Variables"
   ]
  },
  {
   "cell_type": "code",
   "execution_count": 167,
   "id": "7214f60e-3e9c-4463-be4d-d66e44ec3a42",
   "metadata": {},
   "outputs": [],
   "source": [
    "df['Reviews_Ratings'] = df['Reviews_Ratings'].apply(eval)\n",
    "\n",
    "df_reviews = df['Reviews_Ratings'].apply(pd.Series)\n",
    "df_reviews = df_reviews.applymap(lambda x: clean_str(x, \" out of 5 stars\"))\n",
    "df_reviews = df_reviews.astype(float)\n",
    "df_reviews[\"Average_Review_Rating\"] = df_reviews.mean(axis = 1, skipna=True)\n",
    "\n",
    "df[\"Average_Review_Rating\"] = df_reviews[\"Average_Review_Rating\"]"
   ]
  },
  {
   "cell_type": "code",
   "execution_count": 168,
   "id": "557fb661-d721-4575-b564-bc509dfcc9da",
   "metadata": {},
   "outputs": [],
   "source": [
    "df['Reviews_Titles'] = df['Reviews_Titles'].replace(np.nan, \"[]\")\n",
    "df['Reviews_Titles'] = df['Reviews_Titles'].astype(str).apply(eval)\n",
    "\n",
    "df_reviews_title = df['Reviews_Titles'].apply(pd.Series)\n",
    "df_reviews_title = df_reviews_title.applymap(lambda x: clean_str(x, \"\\n\"))\n",
    "df_reviews_title = df_reviews_title.replace(np.nan, \"\")\n",
    "df_reviews_title['All_Review_Titles'] = df_reviews_title.agg(' '.join, axis=1).str.strip()\n",
    "df_reviews_title = df_reviews_title.replace(\"\", np.nan)\n",
    "\n",
    "df['All_Review_Titles'] = df_reviews_title['All_Review_Titles']"
   ]
  },
  {
   "cell_type": "code",
   "execution_count": 169,
   "id": "e8fa34d4-0e8e-481b-ad57-f15fb825eb20",
   "metadata": {},
   "outputs": [],
   "source": [
    "df['Reviews_Texts'] = df['Reviews_Texts'].replace(np.nan, \"[]\")\n",
    "df['Reviews_Texts'] = df['Reviews_Texts'].astype(str).apply(eval)\n",
    "\n",
    "df_reviews_text = df['Reviews_Texts'].apply(pd.Series)\n",
    "df_reviews_text = df_reviews_text.applymap(lambda x: clean_str(x, \"\\n\"))\n",
    "df_reviews_text = df_reviews_text.replace(np.nan, \"\")\n",
    "df_reviews_text['All_Review_Text'] = df_reviews_text.agg(' '.join, axis=1).str.strip()\n",
    "df_reviews_text = df_reviews_text.replace(\"\", np.nan)\n",
    "\n",
    "df['All_Review_Text'] = df_reviews_text['All_Review_Text']"
   ]
  },
  {
   "cell_type": "code",
   "execution_count": 170,
   "id": "3e92f03a-0532-4d7b-b89f-dbd840685e6b",
   "metadata": {},
   "outputs": [],
   "source": [
    "df.drop(['Reviews_Ratings', 'Reviews_Texts', 'Reviews_Titles'], axis=1, inplace=True)"
   ]
  },
  {
   "cell_type": "code",
   "execution_count": 171,
   "id": "427c5156-2d12-4068-897c-cdfd04b51570",
   "metadata": {},
   "outputs": [],
   "source": [
    "df.to_csv('clean_amazon_data.csv', index=False, encoding='utf-8')"
   ]
  },
  {
   "cell_type": "code",
   "execution_count": 172,
   "id": "83d26d2b-2584-4c70-8477-93da3e0bfe7f",
   "metadata": {},
   "outputs": [
    {
     "data": {
      "text/html": [
       "<div>\n",
       "<style scoped>\n",
       "    .dataframe tbody tr th:only-of-type {\n",
       "        vertical-align: middle;\n",
       "    }\n",
       "\n",
       "    .dataframe tbody tr th {\n",
       "        vertical-align: top;\n",
       "    }\n",
       "\n",
       "    .dataframe thead th {\n",
       "        text-align: right;\n",
       "    }\n",
       "</style>\n",
       "<table border=\"1\" class=\"dataframe\">\n",
       "  <thead>\n",
       "    <tr style=\"text-align: right;\">\n",
       "      <th></th>\n",
       "      <th>Book Name</th>\n",
       "      <th>Author</th>\n",
       "      <th>Price</th>\n",
       "      <th>KU</th>\n",
       "      <th>Rankings</th>\n",
       "      <th>Rating</th>\n",
       "      <th>Customers_Rated</th>\n",
       "      <th>Blurb</th>\n",
       "      <th>Average_Review_Rating</th>\n",
       "      <th>All_Review_Titles</th>\n",
       "      <th>All_Review_Text</th>\n",
       "    </tr>\n",
       "  </thead>\n",
       "  <tbody>\n",
       "    <tr>\n",
       "      <th>0</th>\n",
       "      <td>TAGGED BY DEATH (RILEY MALLOY THRILLER SERIES...</td>\n",
       "      <td>Judith A. Barrett</td>\n",
       "      <td>6.99</td>\n",
       "      <td>1</td>\n",
       "      <td>6162.0</td>\n",
       "      <td>4.0</td>\n",
       "      <td>71.0</td>\n",
       "      <td>Only the dog whisperer can identify a serial...</td>\n",
       "      <td>NaN</td>\n",
       "      <td>NaN</td>\n",
       "      <td>NaN</td>\n",
       "    </tr>\n",
       "    <tr>\n",
       "      <th>1</th>\n",
       "      <td>The Armstrong Assignment (A Janet Markham Ben...</td>\n",
       "      <td>Diana Xarissa</td>\n",
       "      <td>3.99</td>\n",
       "      <td>1</td>\n",
       "      <td>1736.0</td>\n",
       "      <td>4.6</td>\n",
       "      <td>316.0</td>\n",
       "      <td>Janet Markham’s wedding day is perfect in ev...</td>\n",
       "      <td>5.000000</td>\n",
       "      <td>A New Adventure A lovely page turner.</td>\n",
       "      <td>Janet and Edward are starting their life toget...</td>\n",
       "    </tr>\n",
       "    <tr>\n",
       "      <th>2</th>\n",
       "      <td>Overachiever (Slumming It Book 2)</td>\n",
       "      <td>S.M. Shade</td>\n",
       "      <td>5.10</td>\n",
       "      <td>1</td>\n",
       "      <td>3630.0</td>\n",
       "      <td>4.7</td>\n",
       "      <td>107.0</td>\n",
       "      <td>\"Overachiever was hands down one of the best...</td>\n",
       "      <td>4.857143</td>\n",
       "      <td>Wow A laugh-out-loud college romance! Hilariou...</td>\n",
       "      <td>I cannot wait for the 3rd book in this series....</td>\n",
       "    </tr>\n",
       "    <tr>\n",
       "      <th>3</th>\n",
       "      <td>The Perfect Couple: A gripping USA Today psyc...</td>\n",
       "      <td>Jackie Kabler</td>\n",
       "      <td>5.99</td>\n",
       "      <td>1</td>\n",
       "      <td>1.0</td>\n",
       "      <td>4.1</td>\n",
       "      <td>11783.0</td>\n",
       "      <td>THE 2020 BESTSELLER!Perfect for fans of Lian...</td>\n",
       "      <td>2.750000</td>\n",
       "      <td>solid, kept me guessing Typical predictable mo...</td>\n",
       "      <td>This is a plot driven story and it worked for ...</td>\n",
       "    </tr>\n",
       "    <tr>\n",
       "      <th>4</th>\n",
       "      <td>Sold on a Monday: A Novel</td>\n",
       "      <td>Kristina McMorris</td>\n",
       "      <td>11.10</td>\n",
       "      <td>1</td>\n",
       "      <td>2.0</td>\n",
       "      <td>4.2</td>\n",
       "      <td>15798.0</td>\n",
       "      <td>A NEW YORK TIMES BESTSELLER A USA TODAY BEST...</td>\n",
       "      <td>4.375000</td>\n",
       "      <td>Truth bares fiction Loved it OK story but not ...</td>\n",
       "      <td>It is a bit of the reality of the times.  My o...</td>\n",
       "    </tr>\n",
       "  </tbody>\n",
       "</table>\n",
       "</div>"
      ],
      "text/plain": [
       "                                           Book Name             Author  \\\n",
       "0   TAGGED BY DEATH (RILEY MALLOY THRILLER SERIES...  Judith A. Barrett   \n",
       "1   The Armstrong Assignment (A Janet Markham Ben...      Diana Xarissa   \n",
       "2                 Overachiever (Slumming It Book 2)          S.M. Shade   \n",
       "3   The Perfect Couple: A gripping USA Today psyc...      Jackie Kabler   \n",
       "4                         Sold on a Monday: A Novel   Kristina McMorris   \n",
       "\n",
       "   Price  KU  Rankings  Rating  Customers_Rated  \\\n",
       "0   6.99   1    6162.0     4.0             71.0   \n",
       "1   3.99   1    1736.0     4.6            316.0   \n",
       "2   5.10   1    3630.0     4.7            107.0   \n",
       "3   5.99   1       1.0     4.1          11783.0   \n",
       "4  11.10   1       2.0     4.2          15798.0   \n",
       "\n",
       "                                               Blurb  Average_Review_Rating  \\\n",
       "0    Only the dog whisperer can identify a serial...                    NaN   \n",
       "1    Janet Markham’s wedding day is perfect in ev...               5.000000   \n",
       "2    \"Overachiever was hands down one of the best...               4.857143   \n",
       "3    THE 2020 BESTSELLER!Perfect for fans of Lian...               2.750000   \n",
       "4    A NEW YORK TIMES BESTSELLER A USA TODAY BEST...               4.375000   \n",
       "\n",
       "                                   All_Review_Titles  \\\n",
       "0                                                NaN   \n",
       "1              A New Adventure A lovely page turner.   \n",
       "2  Wow A laugh-out-loud college romance! Hilariou...   \n",
       "3  solid, kept me guessing Typical predictable mo...   \n",
       "4  Truth bares fiction Loved it OK story but not ...   \n",
       "\n",
       "                                     All_Review_Text  \n",
       "0                                                NaN  \n",
       "1  Janet and Edward are starting their life toget...  \n",
       "2  I cannot wait for the 3rd book in this series....  \n",
       "3  This is a plot driven story and it worked for ...  \n",
       "4  It is a bit of the reality of the times.  My o...  "
      ]
     },
     "execution_count": 172,
     "metadata": {},
     "output_type": "execute_result"
    }
   ],
   "source": [
    "df.head()"
   ]
  },
  {
   "cell_type": "markdown",
   "id": "626a509c-be00-4ed6-b9f7-9b4c4febdbe2",
   "metadata": {},
   "source": [
    "## 2. Predicting Bestsellers from Text\n",
    "\n",
    "### 2.1 Text Preprocessing "
   ]
  },
  {
   "cell_type": "code",
   "execution_count": 173,
   "id": "157cdd3e-075a-47af-b511-f4f02f7a786a",
   "metadata": {},
   "outputs": [],
   "source": [
    "df = df[df['Rankings'].notna()]\n",
    "df = df[df['All_Review_Text'].notna()]\n",
    "df = df[df['All_Review_Titles'].notna()]\n",
    "df = df[df['Blurb'].notna()]\n",
    "\n",
    "df['Sales_Rank'] = df['Rankings'].apply(lambda x: 'bestseller' if x <= 100 else 'low_sales' if x >= 1000 else 'normal')\n",
    "df['Bestseller'] = df['Rankings'].apply(lambda x: 1 if x <= 100 else 0)"
   ]
  },
  {
   "cell_type": "code",
   "execution_count": 174,
   "id": "aad9fb7e-cc61-46d3-af0c-619aa0305b5c",
   "metadata": {},
   "outputs": [],
   "source": [
    "# Remove stopwords\n",
    "stopwords = set(nltk.corpus.stopwords.words('english'))\n",
    "stopwords=stopwords.union(set(string.punctuation))\n",
    "additional_stopwords = ['\\'s', '’', 'n\\'t', '...', '”', '“']\n",
    "stopwords.update(additional_stopwords)\n",
    "# Lemmatize words e.g. snowed and snowing are both snow (verb)\n",
    "wnl = nltk.WordNetLemmatizer()\n",
    "\n",
    "def text_prep(txt):\n",
    "    if txt is not np.nan:\n",
    "        txt = txt.lower()\n",
    "        tokens = [token for token in nltk.tokenize.word_tokenize(txt)]\n",
    "        tokens = [token for token in tokens if not token in stopwords]\n",
    "        tokens = [wnl.lemmatize(token) for token in tokens]\n",
    "        if (len(tokens)==0):\n",
    "            tokens = [\"EMPTYSTRING\"]\n",
    "        return(tokens)\n",
    "\n",
    "df['All_Review_Text_Tokens'] = df['All_Review_Text'].apply(text_prep)\n",
    "df['All_Review_Titles_Tokens'] = df['All_Review_Titles'].apply(text_prep)\n",
    "df['Blurb_Tokens'] = df['Blurb'].apply(text_prep)"
   ]
  },
  {
   "cell_type": "code",
   "execution_count": 175,
   "id": "d865b4b5-24df-48ec-ab3a-472dceb247d4",
   "metadata": {},
   "outputs": [
    {
     "data": {
      "image/png": "[encoded data removed]",
      "text/plain": [
       "<Figure size 1080x288 with 3 Axes>"
      ]
     },
     "metadata": {
      "needs_background": "light"
     },
     "output_type": "display_data"
    }
   ],
   "source": [
    "text_data = [text_prep(txt) for txt in df.All_Review_Text]\n",
    "text_data_2 = [i for i in text_data if i]\n",
    "\n",
    "title_data = [text_prep(txt) for txt in df.All_Review_Titles]\n",
    "title_data_2 = [i for i in title_data if i]\n",
    "\n",
    "blurb_data = [text_prep(txt) for txt in df.Blurb]\n",
    "blurb_data_2 = [i for i in blurb_data if i]\n",
    "\n",
    "text_wf = nltk.FreqDist([word for doc in text_data_2 for word in doc]).most_common(12)\n",
    "text_words = [x[0] for x in text_wf]\n",
    "text_cnt = [x[1] for x in text_wf]\n",
    "\n",
    "title_wf = nltk.FreqDist([word for doc in title_data_2 for word in doc]).most_common(12)\n",
    "title_words = [x[0] for x in title_wf]\n",
    "title_cnt = [x[1] for x in title_wf]\n",
    "\n",
    "blurb_wf = nltk.FreqDist([word for doc in blurb_data_2 for word in doc]).most_common(12)\n",
    "blurb_words = [x[0] for x in blurb_wf]\n",
    "blurb_cnt = [x[1] for x in blurb_wf]\n",
    "\n",
    "fig, ax = plt.subplots(1,3, figsize=(15,4))\n",
    "ax[0].bar(range(len(text_words)), text_cnt);\n",
    "ax[0].set_xticks(range(len(text_words)));\n",
    "ax[0].set_xticklabels(text_words, rotation='vertical');\n",
    "ax[0].set_title('Most common words in review text');\n",
    "ax[0].set_xlabel('Word');\n",
    "ax[0].set_ylabel('Occurences');\n",
    "\n",
    "ax[1].bar(range(len(title_words)), title_cnt);\n",
    "ax[1].set_xticks(range(len(title_words)));\n",
    "ax[1].set_xticklabels(title_words, rotation='vertical');\n",
    "ax[1].set_title('Most common words in review titles');\n",
    "ax[1].set_xlabel('Word');\n",
    "ax[1].set_ylabel('Occurences');\n",
    "ax[1].set_ylabel(\"\");\n",
    "ax[1].yaxis.set_ticks_position('none');\n",
    "ax[1].set_yticklabels('');\n",
    "\n",
    "ax[2].bar(range(len(blurb_words)), blurb_cnt);\n",
    "ax[2].set_xticks(range(len(blurb_words)));\n",
    "ax[2].set_xticklabels(blurb_words, rotation='vertical');\n",
    "ax[2].set_title('Most common words in blurbs');\n",
    "ax[2].set_xlabel('Word');\n",
    "ax[2].set_ylabel('Occurences');\n",
    "ax[2].set_ylabel(\"\");\n",
    "ax[2].yaxis.set_ticks_position('none');\n",
    "ax[2].set_yticklabels('');\n",
    "\n",
    "plt.show()"
   ]
  },
  {
   "cell_type": "markdown",
   "id": "39f44fd0-4c2c-4870-b798-24091b4f258a",
   "metadata": {},
   "source": [
    "### 2.2 Classification of Bestsellers Using Review Text"
   ]
  },
  {
   "cell_type": "code",
   "execution_count": 176,
   "id": "45daf3fc-aaf9-4939-9708-b8faeac1787e",
   "metadata": {},
   "outputs": [
    {
     "name": "stdout",
     "output_type": "stream",
     "text": [
      "Mutinomial Naive Bayes Classification with Review Text Accuracy: 0.8125\n"
     ]
    },
    {
     "data": {
      "image/png": "[encoded data removed]",
      "text/plain": [
       "<Figure size 432x288 with 1 Axes>"
      ]
     },
     "metadata": {
      "needs_background": "light"
     },
     "output_type": "display_data"
    }
   ],
   "source": [
    "vectorizer = CountVectorizer()\n",
    "y = df.Bestseller\n",
    "X = vectorizer.fit_transform([' '.join(token) for token in df.All_Review_Text_Tokens])\n",
    "\n",
    "Xtrain, Xtest, ytrain, ytest = train_test_split(X, y, test_size=0.3, random_state=10)\n",
    "\n",
    "nb_classifier = naive_bayes.MultinomialNB()\n",
    "nb_classifier.fit(Xtrain,ytrain)\n",
    "print(f\"Mutinomial Naive Bayes Classification with Review Text Accuracy: {np.mean(nb_classifier.predict(Xtest)==ytest)}\")\n",
    "\n",
    "mat = confusion_matrix(ytest, nb_classifier.predict(Xtest))\n",
    "sns.heatmap(mat.T, square=True, annot=True, fmt='d', cbar=False, linewidths=2, cmap=\"YlGnBu\", \n",
    "            yticklabels = ['Not Bestseller', 'Bestseller'],\n",
    "            xticklabels = ['Not Bestseller', 'Bestseller'])\n",
    "plt.xlabel('True label')\n",
    "plt.ylabel('Predicted label');"
   ]
  },
  {
   "cell_type": "code",
   "execution_count": 177,
   "id": "3c3fee3d-9d64-4414-af0c-40a3c75507de",
   "metadata": {},
   "outputs": [
    {
     "name": "stdout",
     "output_type": "stream",
     "text": [
      "Support Vector Classification with Review Text Accuracy: 0.8125\n"
     ]
    },
    {
     "data": {
      "image/png": "[encoded data removed]",
      "text/plain": [
       "<Figure size 432x288 with 1 Axes>"
      ]
     },
     "metadata": {
      "needs_background": "light"
     },
     "output_type": "display_data"
    }
   ],
   "source": [
    "from sklearn.linear_model import SGDClassifier\n",
    "\n",
    "svc_classifier = SGDClassifier(loss='hinge', penalty='l2', alpha=1e-3, random_state=42, max_iter=5, tol=None)\n",
    "svc_classifier.fit(Xtrain,ytrain)\n",
    "print(f\"Support Vector Classification with Review Text Accuracy: {np.mean(svc_classifier.predict(Xtest)==ytest)}\")\n",
    "\n",
    "mat = confusion_matrix(ytest, svc_classifier.predict(Xtest))\n",
    "sns.heatmap(mat.T, square=True, annot=True, fmt='d', cbar=False, linewidths=2, cmap=\"YlGnBu\", \n",
    "            yticklabels = ['Not Bestseller', 'Bestseller'],\n",
    "            xticklabels = ['Not Bestseller', 'Bestseller'])\n",
    "plt.xlabel('True label')\n",
    "plt.ylabel('Predicted label');"
   ]
  },
  {
   "cell_type": "markdown",
   "id": "8d758ccc-6c0a-47b1-8698-ce5b0eb32735",
   "metadata": {},
   "source": [
    "### 2.3 Classification of Bestsellers Using Alternate Text Variables\n",
    "\n",
    "We can repeat this process using text from the review titles instead, which results in a slightly lower accuracy level."
   ]
  },
  {
   "cell_type": "code",
   "execution_count": 178,
   "id": "e0772801-95d6-4e29-93e1-57e92908f2c5",
   "metadata": {},
   "outputs": [
    {
     "name": "stdout",
     "output_type": "stream",
     "text": [
      "Mutinomial Naive Bayes Classification with Review Titles Accuracy: 0.7916666666666666\n",
      "Mutinomial Naive Bayes Classification with Blubs Accuracy: 0.828125\n",
      "Mutinomial Naive Bayes Classification with All Text Accuracy: 0.8333333333333334\n"
     ]
    }
   ],
   "source": [
    "#Classification of Review Titles\n",
    "X2 = vectorizer.fit_transform([' '.join(doc) for doc in title_data_2])\n",
    "X2train, X2test, y2train, y2test = train_test_split(X2, y, test_size=0.3, random_state=124)\n",
    "\n",
    "nb_classifier.fit(X2train,y2train)\n",
    "print(f\"Mutinomial Naive Bayes Classification with Review Titles Accuracy: {np.mean(nb_classifier.predict(X2test)==y2test)}\")\n",
    "\n",
    "#Classification with Blurbs\n",
    "X3 = vectorizer.fit_transform([' '.join(doc) for doc in blurb_data_2])\n",
    "X3train, X3test, y3train, y3test = train_test_split(X3, y, test_size=0.3, random_state=124)\n",
    "\n",
    "nb_classifier.fit(X3train,y3train)\n",
    "print(f\"Mutinomial Naive Bayes Classification with Blubs Accuracy: {np.mean(nb_classifier.predict(X3test)==y3test)}\")\n",
    "\n",
    "#Classification with all Text\n",
    "all_textual_data = [a + b + c for a, b, c in zip(title_data_2, blurb_data_2, text_data_2)]\n",
    "X4 = vectorizer.fit_transform([' '.join(doc) for doc in all_textual_data])\n",
    "X4train, X4test, y4train, y4test = train_test_split(X4, y, test_size=0.3, random_state=124)\n",
    "\n",
    "nb_classifier.fit(X4train,y4train)\n",
    "print(f\"Mutinomial Naive Bayes Classification with All Text Accuracy: {np.mean(nb_classifier.predict(X4test)==y4test)}\")"
   ]
  },
  {
   "cell_type": "markdown",
   "id": "41f18cdc-bb7c-407c-87e2-f40da53aea9f",
   "metadata": {},
   "source": [
    "## 3. Regression Analysis \n",
    "\n",
    "### 3.1 Define Sales Variable\n",
    "\n",
    "The dependent variable of interest for my regression model is book sales per day. I chose this metric over ranking as a change in rank from \\#5000 or \\#5500 doesn't mean much substantively, whereas the number of books sold is more tangible. I also suspect that for books with very low popularity, a large change in the rank of the book does not mean much for sales. However, Amazon does not publish the number of books sold. Using the [dubious wisdom of the internet](https://bettermarketing.pub/how-many-kindle-books-do-best-sellers-actually-sell-3ee7c3d48c9b), I have developed a method to reverse engineer the rankings into a estimate of sales. The function get_sales tediously defined below takes the rank of the book and returns an approximation of daily sales."
   ]
  },
  {
   "cell_type": "code",
   "execution_count": 211,
   "id": "3b698228-f6f3-4d98-a54d-d3765a74df57",
   "metadata": {},
   "outputs": [],
   "source": [
    "#Define get sales function\n",
    "def get_sales(x):\n",
    "    if x >= 93751:\n",
    "        return 1\n",
    "    elif x >= 81251:\n",
    "        return 2\n",
    "    elif x >= 68751: \n",
    "        return 3 \n",
    "    elif x >= 56251:\n",
    "        return 4\n",
    "    elif x >= 48001: \n",
    "        return 5\n",
    "    elif x >= 44001: \n",
    "        return 6 \n",
    "    elif x >= 40001:\n",
    "        return 7\n",
    "    elif x >= 36001:\n",
    "        return 8\n",
    "    elif x >= 32001:\n",
    "        return 9 \n",
    "    elif x >= 28001:\n",
    "        return 10\n",
    "    elif x >= 24001:\n",
    "        return 11\n",
    "    elif x >= 20001:\n",
    "        return 12\n",
    "    elif x >= 16001:\n",
    "        return 13\n",
    "    elif x >= 12001:\n",
    "        return 14\n",
    "    elif x >= 9776:\n",
    "        return 15\n",
    "    elif x >= 9326:\n",
    "        return 16\n",
    "    elif x >= 8876:\n",
    "        return 17\n",
    "    elif x >= 8500:\n",
    "        return 18 \n",
    "    elif x >= 8000:\n",
    "        return 19\n",
    "    elif x >= 7000:\n",
    "        return 22 \n",
    "    elif x >= 6000:\n",
    "        return 24\n",
    "    elif x >= 5000:\n",
    "        return 34 \n",
    "    elif x >= 4000:\n",
    "        return 52\n",
    "    elif x >= 3000:\n",
    "        return 70\n",
    "    elif x >= 2000:\n",
    "        return 90 \n",
    "    elif x >= 1000:\n",
    "        return 113\n",
    "    elif x >= 500:\n",
    "        return 175\n",
    "    elif x >= 250:\n",
    "        return 415\n",
    "    elif x >= 100:\n",
    "        return 1000\n",
    "    elif x >= 50:\n",
    "        return 1758\n",
    "    elif x >= 20:\n",
    "        return 3000\n",
    "    elif x >= 10:\n",
    "        return 3620\n",
    "    elif x == 9:\n",
    "        return 3682\n",
    "    elif x == 8:\n",
    "        return 3774\n",
    "    elif x == 7:\n",
    "        return 3806\n",
    "    elif x == 6:\n",
    "        return 3868\n",
    "    elif x == 5:\n",
    "        return 3950\n",
    "    elif x == 4:\n",
    "        return 4560\n",
    "    elif x == 3:\n",
    "        return 5170\n",
    "    elif x == 2:\n",
    "        return 5780\n",
    "    elif x == 1:\n",
    "        return 6390\n",
    "    else:\n",
    "        return 0"
   ]
  },
  {
   "cell_type": "code",
   "execution_count": 212,
   "id": "f09fa694-fbd5-42be-b1c1-b0bd7a9f68d9",
   "metadata": {},
   "outputs": [],
   "source": [
    "#Create daily sales column in dataframe\n",
    "df['Rankings'] = df['Rankings'].astype(int)\n",
    "df['Daily_Sales'] = df['Rankings'].apply(get_sales).astype(int)"
   ]
  },
  {
   "cell_type": "markdown",
   "id": "c04d4cac-81d5-445b-b2aa-f635b57f7660",
   "metadata": {},
   "source": [
    "### 3.2 Exploratory Analysis"
   ]
  },
  {
   "cell_type": "code",
   "execution_count": null,
   "id": "f1845d10-fc75-4479-9906-7d94c0c1cc5d",
   "metadata": {},
   "outputs": [],
   "source": []
  },
  {
   "cell_type": "code",
   "execution_count": 218,
   "id": "c10e6c71-ee05-45ce-8092-d3094dafeeca",
   "metadata": {},
   "outputs": [
    {
     "data": {
      "text/plain": [
       "801067.8956569136"
      ]
     },
     "execution_count": 218,
     "metadata": {},
     "output_type": "execute_result"
    }
   ],
   "source": [
    "from sklearn import linear_model\n",
    "X = df[[\"Price\",\"KU\", \"Rating\", \"Customers_Rated\", \"Average_Review_Rating\"]]\n",
    "y = df['Daily_Sales']\n",
    "\n",
    "lr_model = linear_model.LinearRegression()\n",
    "lr_model.fit(X, y)\n",
    "\n",
    "metrics.mean_squared_error(y, lr_model.predict(X))"
   ]
  },
  {
   "cell_type": "code",
   "execution_count": 215,
   "id": "ad09b731-708b-42d8-a382-162abd08ef48",
   "metadata": {},
   "outputs": [
    {
     "data": {
      "text/plain": [
       "Price                      4.556843\n",
       "KU                        73.162389\n",
       "Rating                   263.310950\n",
       "Customers_Rated            0.009864\n",
       "Average_Review_Rating    -92.286584\n",
       "dtype: float64"
      ]
     },
     "execution_count": 215,
     "metadata": {},
     "output_type": "execute_result"
    }
   ],
   "source": [
    "lr_coefs = pd.Series(dict(zip(list(X), lr_model.coef_)))\n",
    "lr_coefs"
   ]
  },
  {
   "cell_type": "code",
   "execution_count": 216,
   "id": "f0dbafd8-11c4-4091-b7d9-566317c89cd5",
   "metadata": {},
   "outputs": [
    {
     "data": {
      "text/html": [
       "<div>\n",
       "<style scoped>\n",
       "    .dataframe tbody tr th:only-of-type {\n",
       "        vertical-align: middle;\n",
       "    }\n",
       "\n",
       "    .dataframe tbody tr th {\n",
       "        vertical-align: top;\n",
       "    }\n",
       "\n",
       "    .dataframe thead th {\n",
       "        text-align: right;\n",
       "    }\n",
       "</style>\n",
       "<table border=\"1\" class=\"dataframe\">\n",
       "  <thead>\n",
       "    <tr style=\"text-align: right;\">\n",
       "      <th></th>\n",
       "      <th>lasso</th>\n",
       "      <th>linreg</th>\n",
       "    </tr>\n",
       "  </thead>\n",
       "  <tbody>\n",
       "    <tr>\n",
       "      <th>Price</th>\n",
       "      <td>4.469782</td>\n",
       "      <td>4.556843</td>\n",
       "    </tr>\n",
       "    <tr>\n",
       "      <th>KU</th>\n",
       "      <td>66.777679</td>\n",
       "      <td>73.162389</td>\n",
       "    </tr>\n",
       "    <tr>\n",
       "      <th>Rating</th>\n",
       "      <td>236.778646</td>\n",
       "      <td>263.310950</td>\n",
       "    </tr>\n",
       "    <tr>\n",
       "      <th>Customers_Rated</th>\n",
       "      <td>0.009929</td>\n",
       "      <td>0.009864</td>\n",
       "    </tr>\n",
       "    <tr>\n",
       "      <th>Average_Review_Rating</th>\n",
       "      <td>-84.589626</td>\n",
       "      <td>-92.286584</td>\n",
       "    </tr>\n",
       "  </tbody>\n",
       "</table>\n",
       "</div>"
      ],
      "text/plain": [
       "                            lasso      linreg\n",
       "Price                    4.469782    4.556843\n",
       "KU                      66.777679   73.162389\n",
       "Rating                 236.778646  263.310950\n",
       "Customers_Rated          0.009929    0.009864\n",
       "Average_Review_Rating  -84.589626  -92.286584"
      ]
     },
     "execution_count": 216,
     "metadata": {},
     "output_type": "execute_result"
    }
   ],
   "source": [
    "lasso_model = linear_model.Lasso()\n",
    "lasso_model.fit(X, y)\n",
    "\n",
    "lasso_coefs = pd.Series(dict(zip(list(X), lasso_model.coef_)))\n",
    "coefs = pd.DataFrame(dict(lasso=lasso_coefs, linreg=lr_coefs))\n",
    "coefs"
   ]
  },
  {
   "cell_type": "code",
   "execution_count": null,
   "id": "0539aba0-7586-4edd-bfea-26bb3a79b241",
   "metadata": {},
   "outputs": [],
   "source": []
  }
 ],
 "metadata": {
  "kernelspec": {
   "display_name": "Python 3 (ipykernel)",
   "language": "python",
   "name": "python3"
  },
  "language_info": {
   "codemirror_mode": {
    "name": "ipython",
    "version": 3
   },
   "file_extension": ".py",
   "mimetype": "text/x-python",
   "name": "python",
   "nbconvert_exporter": "python",
   "pygments_lexer": "ipython3",
   "version": "3.9.6"
  }
 },
 "nbformat": 4,
 "nbformat_minor": 5
}
